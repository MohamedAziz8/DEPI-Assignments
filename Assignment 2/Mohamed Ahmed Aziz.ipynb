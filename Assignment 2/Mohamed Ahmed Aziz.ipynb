{
  "nbformat": 4,
  "nbformat_minor": 0,
  "metadata": {
    "colab": {
      "provenance": []
    },
    "kernelspec": {
      "name": "python3",
      "display_name": "Python 3"
    },
    "language_info": {
      "name": "python"
    }
  },
  "cells": [
    {
      "cell_type": "code",
      "execution_count": 15,
      "metadata": {
        "colab": {
          "base_uri": "https://localhost:8080/"
        },
        "id": "vUELznbPErRJ",
        "outputId": "d6c568c7-50bf-4f7a-9904-517bca77b3a3"
      },
      "outputs": [
        {
          "output_type": "stream",
          "name": "stdout",
          "text": [
            "[0, 1, 2, 3, 4, 5]\n"
          ]
        }
      ],
      "source": [
        "#Q1\n",
        "\n",
        "def bubble_sort(list3):\n",
        "  n = len(list3)\n",
        "  for i in range(n):\n",
        "    for j in range(0 , n - i - 1):\n",
        "      if list3[j] > list3[j + 1]:\n",
        "        list3[j] , list3[j + 1] = list3[j + 1] , list3[j]\n",
        "\n",
        "\n",
        "\n",
        "list1 = [3 , 1 , 4]\n",
        "list2 = [2 , 5, 0]\n",
        "\n",
        "list3 = list1 + list2\n",
        "\n",
        "bubble_sort(list3)\n",
        "print(list3)\n",
        "\n"
      ]
    },
    {
      "cell_type": "code",
      "source": [
        "#Q2\n",
        "\n",
        "sum = ''\n",
        "s = \"abc\"\n",
        "n = 3\n",
        "\n",
        "for i in range(3):\n",
        "  sum+= n * s[i]\n",
        "\n",
        "print(sum)"
      ],
      "metadata": {
        "colab": {
          "base_uri": "https://localhost:8080/"
        },
        "id": "MogfYkfhOus5",
        "outputId": "2dd48d28-a0f0-4550-a4d8-3bf5bfd884a8"
      },
      "execution_count": 27,
      "outputs": [
        {
          "output_type": "stream",
          "name": "stdout",
          "text": [
            "aaabbbccc\n"
          ]
        }
      ]
    }
  ]
}