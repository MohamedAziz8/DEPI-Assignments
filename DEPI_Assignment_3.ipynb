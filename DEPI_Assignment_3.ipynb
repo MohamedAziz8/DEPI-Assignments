{
  "nbformat": 4,
  "nbformat_minor": 0,
  "metadata": {
    "colab": {
      "provenance": []
    },
    "kernelspec": {
      "name": "python3",
      "display_name": "Python 3"
    },
    "language_info": {
      "name": "python"
    }
  },
  "cells": [
    {
      "cell_type": "code",
      "execution_count": 1,
      "metadata": {
        "colab": {
          "base_uri": "https://localhost:8080/"
        },
        "id": "_vdOs_OpIEql",
        "outputId": "10a2a3df-d06d-4505-85b6-a703d33e7fdb"
      },
      "outputs": [
        {
          "output_type": "stream",
          "name": "stdout",
          "text": [
            "Enter a string: Hello World\n",
            "The number of vowels=  3\n"
          ]
        }
      ],
      "source": [
        "def count_vowels(string):\n",
        "  count = 0\n",
        "  for i in string:\n",
        "    if i in \"aeiouAEIOU\":\n",
        "      count += 1\n",
        "  print(\"The number of vowels= \", count)\n",
        "\n",
        "\n",
        "\n",
        "x = input(\"Enter a string: \")\n",
        "count_vowels(x)"
      ]
    },
    {
      "cell_type": "code",
      "source": [
        "def find_max(nums):\n",
        "  max = 0\n",
        "  for i in nums:\n",
        "    if max < nums[i]:\n",
        "      temp = max\n",
        "      max = nums[i]\n",
        "      nums[i] = temp\n",
        "  print(\"The maximum number is: \", max)\n",
        "\n",
        "\n",
        "nums = [1,2,3,6,5,2]\n",
        "find_max(nums)"
      ],
      "metadata": {
        "colab": {
          "base_uri": "https://localhost:8080/"
        },
        "id": "6wgJzidSJapz",
        "outputId": "b5e977a0-4399-4b6f-f1e1-e172840282d2"
      },
      "execution_count": 8,
      "outputs": [
        {
          "output_type": "stream",
          "name": "stdout",
          "text": [
            "The maximum number is:  6\n"
          ]
        }
      ]
    }
  ]
}